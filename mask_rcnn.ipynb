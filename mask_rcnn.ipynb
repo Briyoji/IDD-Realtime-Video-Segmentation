{
 "cells": [
  {
   "cell_type": "code",
   "execution_count": 8,
   "metadata": {},
   "outputs": [],
   "source": [
    "import numpy as np\n",
    "import tensorflow as tf\n",
    "from mrcnn import model as modellib\n",
    "from mrcnn.config import Config\n",
    "import cv2"
   ]
  },
  {
   "cell_type": "code",
   "execution_count": 19,
   "metadata": {},
   "outputs": [
    {
     "name": "stdout",
     "output_type": "stream",
     "text": [
      "['/device:CPU:0']\n"
     ]
    }
   ],
   "source": [
    "from tensorflow.python.client import device_lib\n",
    "\n",
    "def get_available_devices():\n",
    "    local_device_protos = device_lib.list_local_devices()\n",
    "    return [x.name for x in local_device_protos]\n",
    "\n",
    "print(get_available_devices())"
   ]
  },
  {
   "cell_type": "code",
   "execution_count": 9,
   "metadata": {},
   "outputs": [],
   "source": [
    "class InferenceConfig(Config):\n",
    "    NAME = \"coco\"\n",
    "    GPU_COUNT = 1\n",
    "    IMAGES_PER_GPU = 1\n",
    "    NUM_CLASSES = 1 + 80  # COCO dataset has 80 classes + 1 background"
   ]
  },
  {
   "cell_type": "code",
   "execution_count": 10,
   "metadata": {},
   "outputs": [],
   "source": [
    "def load_model(weights_path):\n",
    "    config = InferenceConfig()\n",
    "    model = modellib.MaskRCNN(mode=\"inference\", model_dir='./', config=config)\n",
    "    model.load_weights(weights_path, by_name=True)\n",
    "    return model"
   ]
  },
  {
   "cell_type": "code",
   "execution_count": 11,
   "metadata": {},
   "outputs": [],
   "source": [
    "# Function to apply Mask R-CNN to each frame and overlay results\n",
    "def process_frame(model, frame):\n",
    "    results = model.detect([frame], verbose=0)\n",
    "    r = results[0]\n",
    "    \n",
    "    # Create a blank canvas for segmented mask\n",
    "    mask_canvas = np.zeros_like(frame)\n",
    "    \n",
    "    # Apply detected masks\n",
    "    for i in range(r['masks'].shape[-1]):\n",
    "        mask = r['masks'][:, :, i]\n",
    "        color = np.random.randint(0, 255, (3,), dtype=int)\n",
    "        mask_canvas[mask] = color\n",
    "    \n",
    "    # Overlay mask on the original frame\n",
    "    alpha = 0.5  # Transparency factor\n",
    "    segmented_frame = cv2.addWeighted(frame, 1 - alpha, mask_canvas, alpha, 0)\n",
    "    return segmented_frame"
   ]
  },
  {
   "cell_type": "code",
   "execution_count": 12,
   "metadata": {},
   "outputs": [],
   "source": [
    "import cv2\n",
    "import numpy as np\n",
    "\n",
    "def process_and_display_video(input_video_path, model, max_duration_seconds=1):\n",
    "    cap = cv2.VideoCapture(input_video_path)\n",
    "    fps = int(cap.get(cv2.CAP_PROP_FPS))\n",
    "    width = int(cap.get(cv2.CAP_PROP_FRAME_WIDTH))\n",
    "    height = int(cap.get(cv2.CAP_PROP_FRAME_HEIGHT))\n",
    "    max_frames = int(fps * max_duration_seconds)\n",
    "    \n",
    "    # Lists to store original and segmented frames\n",
    "    original_frames = []\n",
    "    segmented_frames = []\n",
    "    frame_count = 0\n",
    "    \n",
    "    print(\"Processing video...\")\n",
    "    while cap.isOpened() and frame_count < max_frames:\n",
    "        ret, frame = cap.read()\n",
    "        if not ret:\n",
    "            break\n",
    "        \n",
    "        # Resize frame for inference\n",
    "        resized_frame = cv2.resize(frame, (1024, 1024))\n",
    "        segmented_frame = process_frame(model, resized_frame)\n",
    "        \n",
    "        # Resize segmented frame back to original dimensions\n",
    "        segmented_frame = cv2.resize(segmented_frame, (width, height))\n",
    "        \n",
    "        # Store frames in memory\n",
    "        original_frames.append(frame)\n",
    "        segmented_frames.append(segmented_frame)\n",
    "        \n",
    "        frame_count += 1\n",
    "    \n",
    "    cap.release()\n",
    "    \n",
    "    print(\"Processing complete! Displaying video...\")\n",
    "\n",
    "    while True:\n",
    "        for original, segmented in zip(original_frames, segmented_frames):\n",
    "            # Combine the frames horizontally\n",
    "            combined_frame = np.hstack((original, segmented))\n",
    "            \n",
    "            # Display the combined frame\n",
    "            cv2.imshow(\"Original and Segmented Video\", combined_frame)\n",
    "            \n",
    "            # Exit on pressing 'q'\n",
    "            key = cv2.waitKey(int(1000 / fps))\n",
    "            if key & 0xFF == ord('q'):\n",
    "                cv2.destroyAllWindows()\n",
    "                print(\"Video display complete!\")\n",
    "                return\n",
    "    \n",
    "    # Release all OpenCV windows\n",
    "    "
   ]
  },
  {
   "cell_type": "code",
   "execution_count": 13,
   "metadata": {},
   "outputs": [],
   "source": [
    "# Load the model\n",
    "weights_path = \"mask_rcnn_coco.h5\"  # Update with your path\n",
    "model = load_model(weights_path)"
   ]
  },
  {
   "cell_type": "code",
   "execution_count": 14,
   "metadata": {},
   "outputs": [
    {
     "name": "stdout",
     "output_type": "stream",
     "text": [
      "Processing video...\n",
      "Processing complete! Displaying video...\n",
      "Video display complete!\n"
     ]
    }
   ],
   "source": [
    "# Process the input video\n",
    "input_video_path = \"videoplayback.mp4\"\n",
    "process_and_display_video(input_video_path, model)"
   ]
  }
 ],
 "metadata": {
  "kernelspec": {
   "display_name": "Python 3",
   "language": "python",
   "name": "python3"
  },
  "language_info": {
   "codemirror_mode": {
    "name": "ipython",
    "version": 3
   },
   "file_extension": ".py",
   "mimetype": "text/x-python",
   "name": "python",
   "nbconvert_exporter": "python",
   "pygments_lexer": "ipython3",
   "version": "3.6.12"
  }
 },
 "nbformat": 4,
 "nbformat_minor": 2
}
